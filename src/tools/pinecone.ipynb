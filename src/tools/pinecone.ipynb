{
 "cells": [
  {
   "cell_type": "markdown",
   "id": "e11ebdc4",
   "metadata": {},
   "source": [
    "### Try the pincone vector db"
   ]
  },
  {
   "cell_type": "code",
   "execution_count": 1,
   "id": "765da5f6",
   "metadata": {},
   "outputs": [
    {
     "data": {
      "text/plain": [
       "True"
      ]
     },
     "execution_count": 1,
     "metadata": {},
     "output_type": "execute_result"
    }
   ],
   "source": [
    "from pinecone import Pinecone, ServerlessSpec\n",
    "import os\n",
    "from dotenv import load_dotenv\n",
    "from PyPDF2 import PdfReader\n",
    "from langchain.text_splitter import CharacterTextSplitter\n",
    "import openai\n",
    "\n",
    "load_dotenv()"
   ]
  },
  {
   "cell_type": "code",
   "execution_count": 3,
   "id": "bbdfc4c1",
   "metadata": {},
   "outputs": [
    {
     "name": "stdout",
     "output_type": "stream",
     "text": [
      "Namespace 'Default' not found or already empty. Skipping delete. Details: (404)\n",
      "Reason: Not Found\n",
      "HTTP response headers: HTTPHeaderDict({'Date': 'Sat, 23 Aug 2025 00:10:46 GMT', 'Content-Type': 'application/json', 'Content-Length': '90', 'Connection': 'keep-alive', 'x-pinecone-request-latency-ms': '2', 'x-pinecone-request-id': '3240774743712451062', 'x-envoy-upstream-service-time': '4', 'server': 'envoy'})\n",
      "HTTP response body: {\"code\":5,\"message\":\"No namespace: 'Default' found in index gdpr-chat-index\",\"details\":[]}\n",
      "\n",
      "No vectors to upsert for GDPR_Guidelines.pdf. Check if the file is empty or unreadable.\n"
     ]
    }
   ],
   "source": [
    "pc = Pinecone(api_key=os.getenv(\"PINECONE_API_KEY\"))\n",
    "index_name = os.getenv(\"PINECONE_INDEX_NAME\")\n",
    "dimension = 1536\n",
    "\n",
    "# Create index if it doesn't exist\n",
    "if index_name not in [i.name for i in pc.list_indexes()]:\n",
    "    pc.create_index(\n",
    "        name=index_name,\n",
    "        dimension=dimension,\n",
    "        metric=\"cosine\",\n",
    "        spec=ServerlessSpec(\n",
    "            cloud=\"aws\",  # or \"gcp\", \"azure\" depending on your Pinecone environment\n",
    "            region=\"us-east-1\"  # match your Pinecone environment\n",
    "        )\n",
    "    )\n",
    "index = pc.Index(index_name)\n",
    "# Clear all vectors in the index\n",
    "# Check if the namespace exists before deleting\n",
    "namespace = \"Default\"  # or your custom namespace if you use one\n",
    "\n",
    "try:\n",
    "    index.describe_namespace(namespace=namespace)\n",
    "    index.delete(delete_all=True, namespace=namespace)\n",
    "    print(f\"All vectors deleted from the '{namespace}' namespace.\")\n",
    "except Exception as e:\n",
    "    print(f\"Namespace '{namespace}' not found or already empty. Skipping delete. Details: {e}\")\n",
    "\n",
    "# Helper: extract text from PDF\n",
    "def pdf_to_text(pdf_path):\n",
    "    reader = PdfReader(pdf_path)\n",
    "    text = \"\"\n",
    "    for page in reader.pages:\n",
    "        page_text = page.extract_text()\n",
    "        if page_text:\n",
    "            text += page_text\n",
    "    return text\n",
    "\n",
    "# Helper: create embeddings for a list of texts\n",
    "def create_embeddings(texts, batch_size=10, max_characters=2000):\n",
    "    embeddings = []\n",
    "    for i in range(0, len(texts), batch_size):\n",
    "        batch = [t[:max_characters] for t in texts[i:i+batch_size] if t and len(t.strip()) > 0]\n",
    "        if not batch:\n",
    "            continue\n",
    "        response = openai.embeddings.create(\n",
    "            input=batch,\n",
    "            model=\"text-embedding-ada-002\"\n",
    "        )\n",
    "        embeddings.extend([d.embedding for d in response.data])\n",
    "    return embeddings\n",
    "\n",
    "# Use a smaller chunk size and filter empty/large chunks\n",
    "splitter = CharacterTextSplitter(chunk_size=1000, chunk_overlap=100)\n",
    "docs_folder = \"/workspaces/gdpr_chat/docs\"\n",
    "for filename in os.listdir(docs_folder):\n",
    "    if filename.lower().endswith(\".pdf\"):\n",
    "        pdf_path = os.path.join(docs_folder, filename)\n",
    "        text = pdf_to_text(pdf_path)\n",
    "        chunks = [c for c in splitter.split_text(text) if c and len(c.strip()) > 0 and len(c) < 2000]\n",
    "        embeddings = create_embeddings(chunks)\n",
    "        for i, (emb, chunk) in enumerate(zip(embeddings, chunks)):\n",
    "            print(type(emb), len(emb))  # emb should be a list of 1536 floats\n",
    "            print(type(chunk), len(chunk))  # chunk should be a string\n",
    "\n",
    "        vectors = [\n",
    "            {\n",
    "                \"id\": f\"{filename}-{i}\",\n",
    "                \"values\": list(emb),\n",
    "                \"metadata\": {\"text\": chunk, \"source\": filename},\n",
    "            }\n",
    "            for i, (emb, chunk) in enumerate(zip(embeddings, chunks))\n",
    "        ]\n",
    "\n",
    "        if vectors:\n",
    "            print(vectors[0])  # print first vector for inspection\n",
    "            index.upsert(vectors=vectors)\n",
    "        else:\n",
    "            print(f\"No vectors to upsert for {filename}. Check if the file is empty or unreadable.\")"
   ]
  },
  {
   "cell_type": "code",
   "execution_count": null,
   "id": "b888c380",
   "metadata": {},
   "outputs": [],
   "source": [
    "def search_docs(query, top_k=5):\n",
    "    # Create embedding for the query\n",
    "    query_emb = openai.embeddings.create(\n",
    "        input=[query],\n",
    "        model=\"text-embedding-ada-002\"\n",
    "    ).data[0].embedding\n",
    "\n",
    "    # Query Pinecone index\n",
    "    results = index.query(\n",
    "        vector=query_emb,\n",
    "        top_k=top_k,\n",
    "        include_metadata=True\n",
    "    )\n",
    "\n",
    "    # Return matched text chunks and sources\n",
    "    return [\n",
    "        {\n",
    "            \"score\": match[\"score\"],\n",
    "            \"text\": match[\"metadata\"][\"text\"],\n",
    "            \"source\": match[\"metadata\"][\"source\"]\n",
    "        }\n",
    "        for match in results[\"matches\"]\n",
    "    ]\n",
    "\n",
    "# Example usage:\n",
    "results = search_docs(\"What is GDPR?\")\n",
    "for r in results:\n",
    "    print(f\"Score: {r['score']:.2f} | Source: {r['source']}\\n{r['text']}\\n\")"
   ]
  }
 ],
 "metadata": {
  "kernelspec": {
   "display_name": "gdpr-chat",
   "language": "python",
   "name": "python3"
  },
  "language_info": {
   "codemirror_mode": {
    "name": "ipython",
    "version": 3
   },
   "file_extension": ".py",
   "mimetype": "text/x-python",
   "name": "python",
   "nbconvert_exporter": "python",
   "pygments_lexer": "ipython3",
   "version": "3.12.1"
  }
 },
 "nbformat": 4,
 "nbformat_minor": 5
}
