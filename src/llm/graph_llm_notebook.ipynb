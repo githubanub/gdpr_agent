{
 "cells": [
  {
   "cell_type": "code",
   "execution_count": 1,
   "id": "cef115f9",
   "metadata": {},
   "outputs": [
    {
     "name": "stderr",
     "output_type": "stream",
     "text": [
      "/workspaces/gdpr_chat/.venv/lib/python3.12/site-packages/tqdm/auto.py:21: TqdmWarning: IProgress not found. Please update jupyter and ipywidgets. See https://ipywidgets.readthedocs.io/en/stable/user_install.html\n",
      "  from .autonotebook import tqdm as notebook_tqdm\n"
     ]
    }
   ],
   "source": [
    "import sys\n",
    "import os\n",
    "\n",
    "# Use current working directory for notebooks\n",
    "sys.path.append(os.path.abspath(os.path.join(os.getcwd(), '..')))\n",
    "\n",
    "import streamlit as st\n",
    "from langchain_groq import ChatGroq\n",
    "from dotenv import load_dotenv\n",
    "from tools.index_search import search_index_gdpr\n",
    "\n",
    "\n",
    "load_dotenv()\n",
    "\n",
    "os.environ[\"GROQ_API_KEY\"] = os.getenv(\"GROQ_API_KEY\")\n",
    "\n",
    "class source_llm:\n",
    "    def __init__(self,\n",
    "                 model_name=\"deepseek-r1-distill-llama-70b\",\n",
    "                 temperature=0.1):\n",
    "        self.model_name=model_name\n",
    "        self.temperature=temperature\n",
    "    \n",
    "    def get_llm_model(self):\n",
    "        llm = ChatGroq(model=self.model_name,\n",
    "                      temperature=self.temperature,)\n",
    "        llm = llm.bind_tools([search_index_gdpr])\n",
    "        return llm"
   ]
  },
  {
   "cell_type": "code",
   "execution_count": 3,
   "id": "f52eed99",
   "metadata": {},
   "outputs": [],
   "source": [
    "from langchain_core.messages import BaseMessage, AIMessage, HumanMessage, SystemMessage"
   ]
  },
  {
   "cell_type": "code",
   "execution_count": 9,
   "id": "fbab1e89",
   "metadata": {},
   "outputs": [
    {
     "name": "stdout",
     "output_type": "stream",
     "text": [
      "content=\"I don't have access to past interactions or memory of previous questions. Each conversation starts fresh to ensure privacy and security. How can I assist you today?\" additional_kwargs={'reasoning_content': 'Okay, the user is asking, \"What was my first questions?\" I need to figure out how to respond. Since I don\\'t have memory of past interactions, I can\\'t retrieve previous questions. I should explain that I don\\'t have access to past conversations and offer to help with anything else they need. I\\'ll make sure to keep it friendly and clear.\\n'} response_metadata={'token_usage': {'completion_tokens': 109, 'prompt_tokens': 158, 'total_tokens': 267, 'completion_time': 0.577898351, 'prompt_time': 0.02878797, 'queue_time': 0.0493853, 'total_time': 0.606686321}, 'model_name': 'deepseek-r1-distill-llama-70b', 'system_fingerprint': 'fp_76307ac09b', 'service_tier': 'on_demand', 'finish_reason': 'stop', 'logprobs': None} id='run--bca9ebab-76b7-444a-8ca8-f22007cc3630-0' usage_metadata={'input_tokens': 158, 'output_tokens': 109, 'total_tokens': 267}\n"
     ]
    }
   ],
   "source": [
    "llm_instance = source_llm()\n",
    "llm = llm_instance.get_llm_model()\n",
    "question = HumanMessage(content=\"What was my first questions?\")\n",
    "print(llm.invoke([question]))"
   ]
  }
 ],
 "metadata": {
  "kernelspec": {
   "display_name": "gdpr-chat",
   "language": "python",
   "name": "python3"
  },
  "language_info": {
   "codemirror_mode": {
    "name": "ipython",
    "version": 3
   },
   "file_extension": ".py",
   "mimetype": "text/x-python",
   "name": "python",
   "nbconvert_exporter": "python",
   "pygments_lexer": "ipython3",
   "version": "3.12.1"
  }
 },
 "nbformat": 4,
 "nbformat_minor": 5
}
