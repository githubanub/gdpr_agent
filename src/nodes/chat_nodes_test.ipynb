{
 "cells": [
  {
   "cell_type": "code",
   "execution_count": 1,
   "id": "490a939b",
   "metadata": {},
   "outputs": [
    {
     "name": "stderr",
     "output_type": "stream",
     "text": [
      "/workspaces/gdpr_chat/.venv/lib/python3.12/site-packages/tqdm/auto.py:21: TqdmWarning: IProgress not found. Please update jupyter and ipywidgets. See https://ipywidgets.readthedocs.io/en/stable/user_install.html\n",
      "  from .autonotebook import tqdm as notebook_tqdm\n"
     ]
    },
    {
     "data": {
      "text/plain": [
       "True"
      ]
     },
     "execution_count": 1,
     "metadata": {},
     "output_type": "execute_result"
    }
   ],
   "source": [
    "import sys\n",
    "import os\n",
    "import streamlit as st\n",
    "from langchain_groq import ChatGroq\n",
    "from dotenv import load_dotenv\n",
    "from typing_extensions import TypedDict\n",
    "\n",
    "# Use current working directory for notebooks\n",
    "sys.path.append(os.path.abspath(os.path.join(os.getcwd(), '..')))\n",
    "from state.state_llm import ChatMessage\n",
    "from tools.index_search import search_index_gdpr\n",
    "from llm.graph_llm import source_llm\n",
    "from langchain_core.messages import BaseMessage, AIMessage, HumanMessage, SystemMessage\n",
    "\n",
    "load_dotenv()"
   ]
  },
  {
   "cell_type": "code",
   "execution_count": 2,
   "id": "a3616735",
   "metadata": {},
   "outputs": [],
   "source": [
    "def chat_func(state: ChatMessage):\n",
    "    llm = source_llm().get_llm_model()\n",
    "    llm = llm.bind_tools([search_index_gdpr])\n",
    "    system_prompt = (\n",
    "        \"You are a GDPR expert. Answer the question based on the context provided and your own understanding. \"\n",
    "        \"If you don't know the answer, just say that you don't know, don't try to make up an answer.\"\n",
    "    )\n",
    "    messages = [\n",
    "        SystemMessage(content=system_prompt),\n",
    "        HumanMessage(content=state[\"messages\"])\n",
    "    ]\n",
    "    response = llm.invoke(messages)\n",
    "    return {\"messages\": response.content}"
   ]
  },
  {
   "cell_type": "code",
   "execution_count": 4,
   "id": "c92e7bd5",
   "metadata": {},
   "outputs": [],
   "source": [
    "def chat_func2(state: ChatMessage):\n",
    "    llm = source_llm().get_llm_model()\n",
    "    llm = llm.bind_tools([search_index_gdpr])\n",
    "    system_prompt = f\"\"\"You are a GDPR expert. Answer the question based on the context provided and your own understanding.\n",
    "        If you don't know the answer, just say that you don't know, don't try to make up an answer.\n",
    "        User question: {state['messages']}\"\"\"\n",
    "   \n",
    "    response = llm.invoke(system_prompt)\n",
    "    return {\"messages\": response.content}"
   ]
  },
  {
   "cell_type": "code",
   "execution_count": 3,
   "id": "132f5053",
   "metadata": {},
   "outputs": [
    {
     "name": "stdout",
     "output_type": "stream",
     "text": [
      "The GDPR, or General Data Protection Regulation, is structured into various articles that outline specific principles, rights, and obligations. Here are the key clauses:\n",
      "\n",
      "1. **Article 4**: Defines personal data as any information relating to an identified or identifiable natural person.\n",
      "\n",
      "2. **Article 5**: Outlines the principles of data processing, including lawfulness, fairness, and transparency.\n",
      "\n",
      "3. **Article 6**: Details the legal bases for processing personal data, such as consent, contractual necessity, legal obligation, vital interests, public interest, and legitimate interests.\n",
      "\n",
      "4. **Article 7**: Covers the conditions for obtaining and managing consent from data subjects.\n",
      "\n",
      "5. **Articles 12-23**: Enumerate the rights of data subjects, including the right to access, rectify, erase, restrict processing, data portability, object, and not be subject to automated decision-making.\n",
      "\n",
      "6. **Article 24**: Holds data controllers responsible for implementing measures to ensure GDPR compliance.\n",
      "\n",
      "7. **Article 25**: Mandates data protection by design and default in processing activities.\n",
      "\n",
      "8. **Article 26**: Governs joint controller arrangements, outlining responsibilities when multiple entities control data processing.\n",
      "\n",
      "9. **Article 33**: Requires notification of data breaches to the supervisory authority within 72 hours.\n",
      "\n",
      "10. **Article 34**: Obliges communication of breaches to affected individuals under specific circumstances.\n",
      "\n",
      "11. **Articles 44-50**: Regulate data transfers to third countries, ensuring adequate protection measures are in place.\n",
      "\n",
      "12. **Article 35**: Introduces the Data Protection Impact Assessment (DPIA) for high-risk processing activities.\n",
      "\n",
      "13. **Article 28**: Establishes the requirements for data processing agreements between controllers and processors.\n",
      "\n",
      "14. **Article 29**: Institutes the European Data Protection Board to facilitate cooperation among EU data protection authorities.\n",
      "\n",
      "15. **Article 30**: Mandates record-keeping of processing activities for both controllers and processors.\n",
      "\n",
      "These articles collectively form the framework of the GDPR, ensuring comprehensive protection of personal data and clear guidelines for data controllers and processors.\n"
     ]
    }
   ],
   "source": [
    "state={\"messages\": \"What are different clauses in GDPR?\"}\n",
    "res = chat_func(state)\n",
    "print(res[\"messages\"])"
   ]
  },
  {
   "cell_type": "code",
   "execution_count": 5,
   "id": "7303754c",
   "metadata": {},
   "outputs": [
    {
     "name": "stdout",
     "output_type": "stream",
     "text": [
      "GDPR is important for several key reasons:\n",
      "\n",
      "1. **Enhanced Data Protection**: It strengthens data protection for individuals, ensuring their personal information is handled responsibly and securely.\n",
      "\n",
      "2. **Increased Transparency and Control**: Individuals gain more control over their data, including the right to access, correct, or delete their information, promoting transparency in data usage.\n",
      "\n",
      "3. **Accountability and Compliance**: Organizations must demonstrate compliance through measures like data protection impact assessments, shifting from passive policy adherence to active accountability.\n",
      "\n",
      "4. **Standardization Across EU**: GDPR unifies data protection laws across the EU, simplifying operations for businesses and providing a consistent framework.\n",
      "\n",
      "5. **Significant Penalties for Non-Compliance**: The threat of substantial fines incentivizes companies to prioritize data protection and invest in compliance efforts.\n",
      "\n",
      "6. **Global Influence**: GDPR has influenced other regions to adopt similar regulations, setting a global standard for data protection.\n",
      "\n",
      "7. **Proactive Security Measures**: The regulation mandates data protection by design and default, ensuring privacy is integrated into systems from the outset.\n",
      "\n",
      "8. **Timely Breach Reporting**: Requires companies to report data breaches within 72 hours, helping to mitigate potential harm quickly.\n",
      "\n",
      "Overall, GDPR is crucial as it fosters a culture of data security, accountability, and transparency, influencing global standards and protecting individuals' rights in the digital age.\n"
     ]
    }
   ],
   "source": [
    "state={\"messages\": \"Why is GDPR important?\"}\n",
    "res = chat_func2(state)\n",
    "print(res[\"messages\"])"
   ]
  }
 ],
 "metadata": {
  "kernelspec": {
   "display_name": "gdpr-chat",
   "language": "python",
   "name": "python3"
  },
  "language_info": {
   "codemirror_mode": {
    "name": "ipython",
    "version": 3
   },
   "file_extension": ".py",
   "mimetype": "text/x-python",
   "name": "python",
   "nbconvert_exporter": "python",
   "pygments_lexer": "ipython3",
   "version": "3.12.1"
  }
 },
 "nbformat": 4,
 "nbformat_minor": 5
}
